{
 "cells": [
  {
   "cell_type": "code",
   "execution_count": null,
   "metadata": {
    "collapsed": true
   },
   "outputs": [],
   "source": []
  },
  {
   "cell_type": "code",
   "execution_count": 269,
   "metadata": {
    "collapsed": false
   },
   "outputs": [
    {
     "data": {
      "text/plain": [
       "[<matplotlib.lines.Line2D at 0x1584c550>]"
      ]
     },
     "execution_count": 269,
     "metadata": {},
     "output_type": "execute_result"
    },
    {
     "data": {
      "image/png": "[encoded data removed]",
      "text/plain": [
       "<matplotlib.figure.Figure at 0x155091d0>"
      ]
     },
     "metadata": {},
     "output_type": "display_data"
    }
   ],
   "source": [
    "%matplotlib inline\n",
    "import numpy as np\n",
    "import matplotlib.pyplot as plt\n",
    "\n",
    "x=[0,10,10,50,50,90,90,100]\n",
    "a=10\n",
    "b=50\n",
    "c=90\n",
    "\n",
    "plt.xlabel('Valores de X')\n",
    "plt.title('Funcion Triangulo')\n",
    "\n",
    "plt.grid()\n",
    "\n",
    "def f(x,a,b,c):\n",
    "    if ((x<a) | (x>=c)):\n",
    "        ans=0\n",
    "    if ((a<=x) & (x<b)):\n",
    "         ans=(x-a)/(b-a);\n",
    "    if ((b<=x) & (x<=c)):\n",
    "        ans=1-(x-b)/(c-b);\n",
    "    return ans\n",
    "\n",
    "f_vec = np.vectorize(f)\n",
    "func=f_vec(x,a,b,c)\n",
    "plt.plot(x,f_vec(x,a,b,c))\n",
    "\n"
   ]
  },
  {
   "cell_type": "code",
   "execution_count": null,
   "metadata": {
    "collapsed": true
   },
   "outputs": [],
   "source": []
  },
  {
   "cell_type": "code",
   "execution_count": null,
   "metadata": {
    "collapsed": true
   },
   "outputs": [],
   "source": []
  }
 ],
 "metadata": {
  "anaconda-cloud": {},
  "kernelspec": {
   "display_name": "Python [Root]",
   "language": "python",
   "name": "Python [Root]"
  },
  "language_info": {
   "codemirror_mode": {
    "name": "ipython",
    "version": 2
   },
   "file_extension": ".py",
   "mimetype": "text/x-python",
   "name": "python",
   "nbconvert_exporter": "python",
   "pygments_lexer": "ipython2",
   "version": "2.7.12"
  }
 },
 "nbformat": 4,
 "nbformat_minor": 0
}
